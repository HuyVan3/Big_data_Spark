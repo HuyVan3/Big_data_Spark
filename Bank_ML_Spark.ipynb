{
  "nbformat": 4,
  "nbformat_minor": 0,
  "metadata": {
    "colab": {
      "name": "Bank_ML_Spark.ipynb",
      "provenance": [],
      "collapsed_sections": []
    },
    "kernelspec": {
      "name": "python3",
      "display_name": "Python 3"
    },
    "language_info": {
      "name": "python"
    }
  },
  "cells": [
    {
      "cell_type": "markdown",
      "metadata": {
        "id": "tmApbIqUxznX"
      },
      "source": [
        "#Bank Marketing Data Analytics\n",
        "\n",
        "Data in Source folder (bank.csv)\n",
        "\n"
      ]
    },
    {
      "cell_type": "code",
      "metadata": {
        "id": "1VsS9jn3qDUE"
      },
      "source": [
        "import pandas as pd\n",
        "import numpy as np\n",
        "\n",
        "from pyspark.ml.feature import OneHotEncoder, StringIndexer, VectorAssembler\n",
        "from pyspark.ml import Pipeline\n",
        "from pyspark.ml.feature import MinMaxScaler\n",
        "\n",
        "from pyspark.ml.classification import LogisticRegression\n",
        "\n",
        "from pyspark.ml.evaluation import BinaryClassificationEvaluator\n",
        "from pyspark.ml.evaluation import MulticlassClassificationEvaluator\n",
        "from pyspark.ml.classification import RandomForestClassifier"
      ],
      "execution_count": 34,
      "outputs": []
    },
    {
      "cell_type": "code",
      "metadata": {
        "colab": {
          "base_uri": "https://localhost:8080/"
        },
        "id": "kD08uPe2qmW0",
        "outputId": "caa9bbb2-4e6f-48be-92aa-c77517650491"
      },
      "source": [
        "dataframe = pd.read_csv(\"bank.csv\")\n",
        "print(dataframe.shape)\n",
        "# chuyển data về dạng numpy \n",
        "print(dataframe.head(2))"
      ],
      "execution_count": 4,
      "outputs": [
        {
          "output_type": "stream",
          "text": [
            "(11162, 17)\n",
            "   age     job  marital  education  ... pdays  previous poutcome deposit\n",
            "0   59  admin.  married  secondary  ...    -1         0  unknown     yes\n",
            "1   56  admin.  married  secondary  ...    -1         0  unknown     yes\n",
            "\n",
            "[2 rows x 17 columns]\n"
          ],
          "name": "stdout"
        }
      ]
    },
    {
      "cell_type": "code",
      "metadata": {
        "colab": {
          "base_uri": "https://localhost:8080/"
        },
        "id": "0vRZsBfsrUNF",
        "outputId": "1e9cd572-fd4a-4968-d823-daf1710737ad"
      },
      "source": [
        "!pip install pyspark"
      ],
      "execution_count": 3,
      "outputs": [
        {
          "output_type": "stream",
          "text": [
            "Collecting pyspark\n",
            "\u001b[?25l  Downloading https://files.pythonhosted.org/packages/45/b0/9d6860891ab14a39d4bddf80ba26ce51c2f9dc4805e5c6978ac0472c120a/pyspark-3.1.1.tar.gz (212.3MB)\n",
            "\u001b[K     |████████████████████████████████| 212.3MB 70kB/s \n",
            "\u001b[?25hCollecting py4j==0.10.9\n",
            "\u001b[?25l  Downloading https://files.pythonhosted.org/packages/9e/b6/6a4fb90cd235dc8e265a6a2067f2a2c99f0d91787f06aca4bcf7c23f3f80/py4j-0.10.9-py2.py3-none-any.whl (198kB)\n",
            "\u001b[K     |████████████████████████████████| 204kB 41.6MB/s \n",
            "\u001b[?25hBuilding wheels for collected packages: pyspark\n",
            "  Building wheel for pyspark (setup.py) ... \u001b[?25l\u001b[?25hdone\n",
            "  Created wheel for pyspark: filename=pyspark-3.1.1-py2.py3-none-any.whl size=212767604 sha256=cda35247e9e14a845044dd70c8b2ef96f3d40d16b2378c36f4848f7d948a1c80\n",
            "  Stored in directory: /root/.cache/pip/wheels/0b/90/c0/01de724414ef122bd05f056541fb6a0ecf47c7ca655f8b3c0f\n",
            "Successfully built pyspark\n",
            "Installing collected packages: py4j, pyspark\n",
            "Successfully installed py4j-0.10.9 pyspark-3.1.1\n"
          ],
          "name": "stdout"
        }
      ]
    },
    {
      "cell_type": "code",
      "metadata": {
        "id": "KzVoI6C5rSRm"
      },
      "source": [
        "import pyspark\n",
        "from pyspark import SparkContext, SparkConf\n",
        "from pyspark.sql import SparkSession\n",
        "from pyspark.ml.feature import OneHotEncoder, StringIndexer, VectorAssembler\n"
      ],
      "execution_count": 5,
      "outputs": []
    },
    {
      "cell_type": "code",
      "metadata": {
        "colab": {
          "base_uri": "https://localhost:8080/"
        },
        "id": "Nj3aoxx_riWv",
        "outputId": "9d592073-5eb9-46a7-fd08-9b076ee0312f"
      },
      "source": [
        "spark = SparkSession.builder.appName('Bank').getOrCreate()\n",
        "\n",
        "df = spark.read.csv('bank.csv', header=True,inferSchema = True)\n",
        "df.printSchema()"
      ],
      "execution_count": 6,
      "outputs": [
        {
          "output_type": "stream",
          "text": [
            "root\n",
            " |-- age: integer (nullable = true)\n",
            " |-- job: string (nullable = true)\n",
            " |-- marital: string (nullable = true)\n",
            " |-- education: string (nullable = true)\n",
            " |-- default: string (nullable = true)\n",
            " |-- balance: integer (nullable = true)\n",
            " |-- housing: string (nullable = true)\n",
            " |-- loan: string (nullable = true)\n",
            " |-- contact: string (nullable = true)\n",
            " |-- day: integer (nullable = true)\n",
            " |-- month: string (nullable = true)\n",
            " |-- duration: integer (nullable = true)\n",
            " |-- campaign: integer (nullable = true)\n",
            " |-- pdays: integer (nullable = true)\n",
            " |-- previous: integer (nullable = true)\n",
            " |-- poutcome: string (nullable = true)\n",
            " |-- deposit: string (nullable = true)\n",
            "\n"
          ],
          "name": "stdout"
        }
      ]
    },
    {
      "cell_type": "code",
      "metadata": {
        "colab": {
          "base_uri": "https://localhost:8080/"
        },
        "id": "izCN5QZ5tB5G",
        "outputId": "5ce8d997-5d2f-4acb-98c3-3ca07ef6267f"
      },
      "source": [
        "df2=df.select('age', 'job', 'marital', 'education', 'default', 'balance', 'housing', 'loan', 'campaign', 'pdays', 'previous', 'poutcome', 'deposit')\n",
        "df2.show(5)\n",
        "cols=df2.columns"
      ],
      "execution_count": 7,
      "outputs": [
        {
          "output_type": "stream",
          "text": [
            "+---+----------+-------+---------+-------+-------+-------+----+--------+-----+--------+--------+-------+\n",
            "|age|       job|marital|education|default|balance|housing|loan|campaign|pdays|previous|poutcome|deposit|\n",
            "+---+----------+-------+---------+-------+-------+-------+----+--------+-----+--------+--------+-------+\n",
            "| 59|    admin.|married|secondary|     no|   2343|    yes|  no|       1|   -1|       0| unknown|    yes|\n",
            "| 56|    admin.|married|secondary|     no|     45|     no|  no|       1|   -1|       0| unknown|    yes|\n",
            "| 41|technician|married|secondary|     no|   1270|    yes|  no|       1|   -1|       0| unknown|    yes|\n",
            "| 55|  services|married|secondary|     no|   2476|    yes|  no|       1|   -1|       0| unknown|    yes|\n",
            "| 54|    admin.|married| tertiary|     no|    184|     no|  no|       2|   -1|       0| unknown|    yes|\n",
            "+---+----------+-------+---------+-------+-------+-------+----+--------+-----+--------+--------+-------+\n",
            "only showing top 5 rows\n",
            "\n"
          ],
          "name": "stdout"
        }
      ]
    },
    {
      "cell_type": "code",
      "metadata": {
        "id": "bSRrZgEuuiuj"
      },
      "source": [
        "df2.registerTempTable(\"bank\")\n",
        "sqlfilter=spark.sql(\"SELECT * FROM bank WHERE job!='unknown' AND education!='unknown' AND marital!='unknown' AND loan!='unknown' AND (poutcome == 'failure' OR poutcome == 'success')\")"
      ],
      "execution_count": 8,
      "outputs": []
    },
    {
      "cell_type": "code",
      "metadata": {
        "id": "En63USIFulgO"
      },
      "source": [
        "df2=sqlfilter"
      ],
      "execution_count": 9,
      "outputs": []
    },
    {
      "cell_type": "code",
      "metadata": {
        "colab": {
          "base_uri": "https://localhost:8080/"
        },
        "id": "2qkd8SCOunKy",
        "outputId": "d64b242c-c5ee-46d4-c9d7-af8aec6e3dcc"
      },
      "source": [
        "df2.show()\n",
        "df2.summary().show()"
      ],
      "execution_count": 10,
      "outputs": [
        {
          "output_type": "stream",
          "text": [
            "+---+------------+--------+---------+-------+-------+-------+----+--------+-----+--------+--------+-------+\n",
            "|age|         job| marital|education|default|balance|housing|loan|campaign|pdays|previous|poutcome|deposit|\n",
            "+---+------------+--------+---------+-------+-------+-------+----+--------+-----+--------+--------+-------+\n",
            "| 33|    services| married|secondary|     no|   3444|    yes|  no|       1|   91|       4| failure|    yes|\n",
            "| 56|  technician| married|secondary|     no|    589|    yes|  no|       1|  147|       2| success|    yes|\n",
            "| 34|      admin.| married| tertiary|     no|    899|    yes|  no|       1|  170|       3| failure|    yes|\n",
            "| 53|     retired| married| tertiary|     no|   2269|     no|  no|       2|  150|       1| success|    yes|\n",
            "| 37|  technician| married|secondary|     no|   5115|    yes|  no|       2|  171|       4| failure|    yes|\n",
            "| 45|entrepreneur| married|secondary|     no|    781|     no| yes|       2|  126|       2| failure|    yes|\n",
            "| 46|  unemployed|divorced|secondary|     no|   3354|    yes|  no|       1|  174|       1| success|    yes|\n",
            "| 40|  management| married| tertiary|     no|   3352|    yes|  no|       2|   27|       1| success|    yes|\n",
            "| 32|  technician| married| tertiary|     no|   4654|    yes| yes|       1|  128|       2| failure|    yes|\n",
            "| 30| blue-collar| married|secondary|     no|    501|    yes| yes|       1|  177|       1| failure|    yes|\n",
            "| 46|  technician| married| tertiary|     no|      0|     no|  no|       1|  167|       1| failure|    yes|\n",
            "| 38|entrepreneur| married| tertiary|     no|   1110|    yes|  no|       2|  183|       2| failure|    yes|\n",
            "| 32|    services| married|secondary|     no|    983|    yes|  no|       2|  133|       1| failure|    yes|\n",
            "| 31|  unemployed| married|secondary|     no|    314|    yes|  no|       3|  178|       7| failure|    yes|\n",
            "| 50| blue-collar| married|  primary|     no|  12519|    yes|  no|       3|   34|       1| failure|    yes|\n",
            "| 47|  technician| married|secondary|     no|      0|     no|  no|       1|   10|       1| failure|    yes|\n",
            "| 59|  management| married| tertiary|     no|   7049|     no|  no|       1|  163|       2| failure|    yes|\n",
            "| 31|  management| married|secondary|     no|   8629|    yes|  no|       1|  184|       2| failure|    yes|\n",
            "| 53| blue-collar| married|secondary|     no|   1777|    yes|  no|       5|  154|       1| failure|    yes|\n",
            "| 40|  technician|  single| tertiary|     no|   1646|    yes|  no|       1|  242|       2| failure|    yes|\n",
            "+---+------------+--------+---------+-------+-------+-------+----+--------+-----+--------+--------+-------+\n",
            "only showing top 20 rows\n",
            "\n",
            "+-------+------------------+----------+--------+---------+-------+------------------+-------+----+------------------+-----------------+------------------+--------+-------+\n",
            "|summary|               age|       job| marital|education|default|           balance|housing|loan|          campaign|            pdays|          previous|poutcome|deposit|\n",
            "+-------+------------------+----------+--------+---------+-------+------------------+-------+----+------------------+-----------------+------------------+--------+-------+\n",
            "|  count|              2181|      2181|    2181|     2181|   2181|              2181|   2181|2181|              2181|             2181|              2181|    2181|   2181|\n",
            "|   mean| 41.84364970197157|      null|    null|     null|   null| 1742.946813388354|   null|null|1.8211829436038514|202.8578633654287|3.0917010545621273|    null|   null|\n",
            "| stddev|12.855329179952637|      null|    null|     null|   null|3397.7939950723485|   null|null|1.2274126864078023|121.3097255486155| 2.958246116660583|    null|   null|\n",
            "|    min|                18|    admin.|divorced|  primary|     no|              -938|     no|  no|                 1|                1|                 1| failure|     no|\n",
            "|    25%|                32|      null|    null|     null|   null|               224|   null|null|                 1|               97|                 1|    null|   null|\n",
            "|    50%|                38|      null|    null|     null|   null|               719|   null|null|                 1|              182|                 2|    null|   null|\n",
            "|    75%|                50|      null|    null|     null|   null|              2044|   null|null|                 2|              278|                 4|    null|   null|\n",
            "|    max|                88|unemployed|  single| tertiary|    yes|             81204|    yes| yes|                12|              854|                55| success|    yes|\n",
            "+-------+------------------+----------+--------+---------+-------+------------------+-------+----+------------------+-----------------+------------------+--------+-------+\n",
            "\n"
          ],
          "name": "stdout"
        }
      ]
    },
    {
      "cell_type": "code",
      "metadata": {
        "colab": {
          "base_uri": "https://localhost:8080/"
        },
        "id": "2yWBEZJpwiye",
        "outputId": "4fed6bae-b7c7-4f6d-ce8e-a91f2533a00a"
      },
      "source": [
        "df2.drop('day','month','deposit').show(10)"
      ],
      "execution_count": 25,
      "outputs": [
        {
          "output_type": "stream",
          "text": [
            "+---+------------+--------+---------+-------+-------+-------+----+--------+-----+--------+--------+-----------+--------------+---------------+---------------+-----------------+-----------------+---------------+---------------+---------------+---------------+------------+-------------+----------------+----------------+-----+--------------------+\n",
            "|age|         job| marital|education|default|balance|housing|loan|campaign|pdays|previous|poutcome|job_indexed|   job_encoded|marital_indexed|marital_encoded|education_indexed|education_encoded|default_indexed|default_encoded|housing_indexed|housing_encoded|loan_indexed| loan_encoded|poutcome_indexed|poutcome_encoded|label|            features|\n",
            "+---+------------+--------+---------+-------+-------+-------+----+--------+-----+--------+--------+-----------+--------------+---------------+---------------+-----------------+-----------------+---------------+---------------+---------------+---------------+------------+-------------+----------------+----------------+-----+--------------------+\n",
            "| 33|    services| married|secondary|     no|   3444|    yes|  no|       1|   91|       4| failure|        5.0|(10,[5],[1.0])|            0.0|  (2,[0],[1.0])|              0.0|    (2,[0],[1.0])|            0.0|  (1,[0],[1.0])|            1.0|      (1,[],[])|         0.0|(1,[0],[1.0])|             0.0|   (1,[0],[1.0])|  0.0|(23,[5,10,12,14,1...|\n",
            "| 56|  technician| married|secondary|     no|    589|    yes|  no|       1|  147|       2| success|        1.0|(10,[1],[1.0])|            0.0|  (2,[0],[1.0])|              0.0|    (2,[0],[1.0])|            0.0|  (1,[0],[1.0])|            1.0|      (1,[],[])|         0.0|(1,[0],[1.0])|             1.0|       (1,[],[])|  0.0|(23,[1,10,12,14,1...|\n",
            "| 34|      admin.| married| tertiary|     no|    899|    yes|  no|       1|  170|       3| failure|        2.0|(10,[2],[1.0])|            0.0|  (2,[0],[1.0])|              1.0|    (2,[1],[1.0])|            0.0|  (1,[0],[1.0])|            1.0|      (1,[],[])|         0.0|(1,[0],[1.0])|             0.0|   (1,[0],[1.0])|  0.0|(23,[2,10,13,14,1...|\n",
            "| 53|     retired| married| tertiary|     no|   2269|     no|  no|       2|  150|       1| success|        4.0|(10,[4],[1.0])|            0.0|  (2,[0],[1.0])|              1.0|    (2,[1],[1.0])|            0.0|  (1,[0],[1.0])|            0.0|  (1,[0],[1.0])|         0.0|(1,[0],[1.0])|             1.0|       (1,[],[])|  0.0|(23,[4,10,13,14,1...|\n",
            "| 37|  technician| married|secondary|     no|   5115|    yes|  no|       2|  171|       4| failure|        1.0|(10,[1],[1.0])|            0.0|  (2,[0],[1.0])|              0.0|    (2,[0],[1.0])|            0.0|  (1,[0],[1.0])|            1.0|      (1,[],[])|         0.0|(1,[0],[1.0])|             0.0|   (1,[0],[1.0])|  0.0|(23,[1,10,12,14,1...|\n",
            "| 45|entrepreneur| married|secondary|     no|    781|     no| yes|       2|  126|       2| failure|        9.0|(10,[9],[1.0])|            0.0|  (2,[0],[1.0])|              0.0|    (2,[0],[1.0])|            0.0|  (1,[0],[1.0])|            0.0|  (1,[0],[1.0])|         1.0|    (1,[],[])|             0.0|   (1,[0],[1.0])|  0.0|(23,[9,10,12,14,1...|\n",
            "| 46|  unemployed|divorced|secondary|     no|   3354|    yes|  no|       1|  174|       1| success|        7.0|(10,[7],[1.0])|            2.0|      (2,[],[])|              0.0|    (2,[0],[1.0])|            0.0|  (1,[0],[1.0])|            1.0|      (1,[],[])|         0.0|(1,[0],[1.0])|             1.0|       (1,[],[])|  0.0|(23,[7,12,14,16,1...|\n",
            "| 40|  management| married| tertiary|     no|   3352|    yes|  no|       2|   27|       1| success|        0.0|(10,[0],[1.0])|            0.0|  (2,[0],[1.0])|              1.0|    (2,[1],[1.0])|            0.0|  (1,[0],[1.0])|            1.0|      (1,[],[])|         0.0|(1,[0],[1.0])|             1.0|       (1,[],[])|  0.0|(23,[0,10,13,14,1...|\n",
            "| 32|  technician| married| tertiary|     no|   4654|    yes| yes|       1|  128|       2| failure|        1.0|(10,[1],[1.0])|            0.0|  (2,[0],[1.0])|              1.0|    (2,[1],[1.0])|            0.0|  (1,[0],[1.0])|            1.0|      (1,[],[])|         1.0|    (1,[],[])|             0.0|   (1,[0],[1.0])|  0.0|(23,[1,10,13,14,1...|\n",
            "| 30| blue-collar| married|secondary|     no|    501|    yes| yes|       1|  177|       1| failure|        3.0|(10,[3],[1.0])|            0.0|  (2,[0],[1.0])|              0.0|    (2,[0],[1.0])|            0.0|  (1,[0],[1.0])|            1.0|      (1,[],[])|         1.0|    (1,[],[])|             0.0|   (1,[0],[1.0])|  0.0|(23,[3,10,12,14,1...|\n",
            "+---+------------+--------+---------+-------+-------+-------+----+--------+-----+--------+--------+-----------+--------------+---------------+---------------+-----------------+-----------------+---------------+---------------+---------------+---------------+------------+-------------+----------------+----------------+-----+--------------------+\n",
            "only showing top 10 rows\n",
            "\n"
          ],
          "name": "stdout"
        }
      ]
    },
    {
      "cell_type": "code",
      "metadata": {
        "id": "ifzbhHyTttOw"
      },
      "source": [
        "\n",
        "categoricalColumns = ['job', 'marital', 'education', 'default', 'housing', 'loan', 'contact', 'poutcome']\n",
        "stages = []\n",
        "for categoricalCol in categoricalColumns:\n",
        "    stringIndexer = StringIndexer(inputCol = categoricalCol, outputCol = categoricalCol + 'Index')\n",
        "    encoder = OneHotEncoder(inputCols=[stringIndexer.getOutputCol()], outputCols=[categoricalCol + \"classVec\"])\n",
        "    stages += [stringIndexer, encoder]\n",
        "label_stringIdx = StringIndexer(inputCol = 'deposit', outputCol = 'label')\n",
        "stages += [label_stringIdx]"
      ],
      "execution_count": 26,
      "outputs": []
    },
    {
      "cell_type": "code",
      "metadata": {
        "id": "IawVchOMwptv"
      },
      "source": [
        "numericCols = ['age', 'balance', 'duration', 'campaign', 'pdays', 'previous']"
      ],
      "execution_count": 27,
      "outputs": []
    },
    {
      "cell_type": "code",
      "metadata": {
        "id": "8Cm3OVvJwq9S"
      },
      "source": [
        "assemblerInputs = [c + \"classVec\" for c in categoricalColumns] + numericCols\n",
        "assembler = VectorAssembler(inputCols=assemblerInputs, outputCol=\"features\")\n",
        "stages += [assembler]"
      ],
      "execution_count": 28,
      "outputs": []
    },
    {
      "cell_type": "code",
      "metadata": {
        "id": "Ns1MOC3Bws5B"
      },
      "source": [
        "pipeline = Pipeline(stages = stages)\n",
        "pipelineModel = pipeline.fit(df)\n",
        "df = pipelineModel.transform(df)\n",
        "selectedCols = ['label', 'features']\n",
        "df = df.select(selectedCols)"
      ],
      "execution_count": 29,
      "outputs": []
    },
    {
      "cell_type": "code",
      "metadata": {
        "colab": {
          "base_uri": "https://localhost:8080/"
        },
        "id": "yyvCV8NhwvVo",
        "outputId": "58099d1e-4a95-4e01-c9a6-cde0f3eb157d"
      },
      "source": [
        "train, test = df.randomSplit([0.8, 0.2], seed = 123)\n",
        "print(\"Training Dataset Count: \" + str(train.count()))\n",
        "print(\"Test Dataset Count: \" + str(test.count()))"
      ],
      "execution_count": 30,
      "outputs": [
        {
          "output_type": "stream",
          "text": [
            "Training Dataset Count: 8886\n",
            "Test Dataset Count: 2276\n"
          ],
          "name": "stdout"
        }
      ]
    },
    {
      "cell_type": "code",
      "metadata": {
        "id": "vtbYOwLCwyiU"
      },
      "source": [
        "lr = LogisticRegression(featuresCol = 'features', labelCol = 'label', maxIter=10)\n",
        "lrModel = lr.fit(train)"
      ],
      "execution_count": 35,
      "outputs": []
    },
    {
      "cell_type": "code",
      "metadata": {
        "colab": {
          "base_uri": "https://localhost:8080/"
        },
        "id": "4knHRm_ExFBG",
        "outputId": "f46a0991-70e8-4b4e-98f0-2e5d4070ed69"
      },
      "source": [
        "predictions = lrModel.transform(test)\n",
        "evaluator = MulticlassClassificationEvaluator().setMetricName(\"accuracy\")\n",
        "accuracy = evaluator.evaluate(predictions)\n",
        "print(accuracy)"
      ],
      "execution_count": 39,
      "outputs": [
        {
          "output_type": "stream",
          "text": [
            "0.804920913884007\n"
          ],
          "name": "stdout"
        }
      ]
    }
  ]
}